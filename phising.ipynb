{
 "cells": [
  {
   "cell_type": "code",
   "execution_count": 26,
   "metadata": {},
   "outputs": [],
   "source": [
    "#importing the needed libraries\n",
    "import pandas as pd\n",
    "import numpy as np\n",
    "import matplotlib.pyplot as plt\n",
    "import seaborn as sns\n",
    "from sklearn.neighbors import KNeighborsClassifier\n",
    "from sklearn.linear_model import LogisticRegression\n",
    "from sklearn.linear_model import SGDClassifier\n",
    "from sklearn.ensemble import RandomForestClassifier\n",
    "from sklearn.naive_bayes import MultinomialNB\n",
    "from sklearn.model_selection import GridSearchCV\n",
    "from sklearn.metrics import confusion_matrix\n",
    "from sklearn.metrics import *\n",
    "from sklearn.model_selection import train_test_split\n",
    "from warnings import filterwarnings\n",
    "filterwarnings(\"ignore\")"
   ]
  },
  {
   "cell_type": "code",
   "execution_count": 2,
   "metadata": {},
   "outputs": [],
   "source": [
    "#loading the data\n",
    "df=pd.read_csv(\"Phishing Data - Phishing Data.csv\")"
   ]
  },
  {
   "cell_type": "code",
   "execution_count": 3,
   "metadata": {},
   "outputs": [
    {
     "data": {
      "text/html": [
       "<div>\n",
       "<style scoped>\n",
       "    .dataframe tbody tr th:only-of-type {\n",
       "        vertical-align: middle;\n",
       "    }\n",
       "\n",
       "    .dataframe tbody tr th {\n",
       "        vertical-align: top;\n",
       "    }\n",
       "\n",
       "    .dataframe thead th {\n",
       "        text-align: right;\n",
       "    }\n",
       "</style>\n",
       "<table border=\"1\" class=\"dataframe\">\n",
       "  <thead>\n",
       "    <tr style=\"text-align: right;\">\n",
       "      <th></th>\n",
       "      <th>having_IP_Address</th>\n",
       "      <th>URL_Length</th>\n",
       "      <th>Shortining_Service</th>\n",
       "      <th>having_At_Symbol</th>\n",
       "      <th>double_slash_redirecting</th>\n",
       "      <th>Prefix_Suffix</th>\n",
       "      <th>having_Sub_Domain</th>\n",
       "      <th>SSLfinal_State</th>\n",
       "      <th>Domain_registeration_length</th>\n",
       "      <th>Favicon</th>\n",
       "      <th>...</th>\n",
       "      <th>popUpWidnow</th>\n",
       "      <th>Iframe</th>\n",
       "      <th>age_of_domain</th>\n",
       "      <th>DNSRecord</th>\n",
       "      <th>web_traffic</th>\n",
       "      <th>Page_Rank</th>\n",
       "      <th>Google_Index</th>\n",
       "      <th>Links_pointing_to_page</th>\n",
       "      <th>Statistical_report</th>\n",
       "      <th>Result</th>\n",
       "    </tr>\n",
       "  </thead>\n",
       "  <tbody>\n",
       "    <tr>\n",
       "      <th>0</th>\n",
       "      <td>1</td>\n",
       "      <td>1</td>\n",
       "      <td>0</td>\n",
       "      <td>0</td>\n",
       "      <td>1</td>\n",
       "      <td>-1</td>\n",
       "      <td>-1</td>\n",
       "      <td>-1</td>\n",
       "      <td>0</td>\n",
       "      <td>0</td>\n",
       "      <td>...</td>\n",
       "      <td>0</td>\n",
       "      <td>0</td>\n",
       "      <td>-1</td>\n",
       "      <td>1</td>\n",
       "      <td>-1</td>\n",
       "      <td>-1</td>\n",
       "      <td>0</td>\n",
       "      <td>1</td>\n",
       "      <td>1</td>\n",
       "      <td>1</td>\n",
       "    </tr>\n",
       "    <tr>\n",
       "      <th>1</th>\n",
       "      <td>0</td>\n",
       "      <td>1</td>\n",
       "      <td>0</td>\n",
       "      <td>0</td>\n",
       "      <td>0</td>\n",
       "      <td>-1</td>\n",
       "      <td>0</td>\n",
       "      <td>1</td>\n",
       "      <td>0</td>\n",
       "      <td>0</td>\n",
       "      <td>...</td>\n",
       "      <td>0</td>\n",
       "      <td>0</td>\n",
       "      <td>-1</td>\n",
       "      <td>1</td>\n",
       "      <td>0</td>\n",
       "      <td>-1</td>\n",
       "      <td>0</td>\n",
       "      <td>1</td>\n",
       "      <td>0</td>\n",
       "      <td>1</td>\n",
       "    </tr>\n",
       "    <tr>\n",
       "      <th>2</th>\n",
       "      <td>0</td>\n",
       "      <td>0</td>\n",
       "      <td>0</td>\n",
       "      <td>0</td>\n",
       "      <td>0</td>\n",
       "      <td>-1</td>\n",
       "      <td>-1</td>\n",
       "      <td>-1</td>\n",
       "      <td>0</td>\n",
       "      <td>0</td>\n",
       "      <td>...</td>\n",
       "      <td>0</td>\n",
       "      <td>0</td>\n",
       "      <td>0</td>\n",
       "      <td>1</td>\n",
       "      <td>1</td>\n",
       "      <td>-1</td>\n",
       "      <td>0</td>\n",
       "      <td>0</td>\n",
       "      <td>1</td>\n",
       "      <td>1</td>\n",
       "    </tr>\n",
       "    <tr>\n",
       "      <th>3</th>\n",
       "      <td>0</td>\n",
       "      <td>0</td>\n",
       "      <td>0</td>\n",
       "      <td>0</td>\n",
       "      <td>0</td>\n",
       "      <td>-1</td>\n",
       "      <td>-1</td>\n",
       "      <td>-1</td>\n",
       "      <td>1</td>\n",
       "      <td>0</td>\n",
       "      <td>...</td>\n",
       "      <td>0</td>\n",
       "      <td>0</td>\n",
       "      <td>-1</td>\n",
       "      <td>1</td>\n",
       "      <td>1</td>\n",
       "      <td>-1</td>\n",
       "      <td>0</td>\n",
       "      <td>-1</td>\n",
       "      <td>0</td>\n",
       "      <td>1</td>\n",
       "    </tr>\n",
       "    <tr>\n",
       "      <th>4</th>\n",
       "      <td>0</td>\n",
       "      <td>0</td>\n",
       "      <td>1</td>\n",
       "      <td>0</td>\n",
       "      <td>0</td>\n",
       "      <td>-1</td>\n",
       "      <td>1</td>\n",
       "      <td>1</td>\n",
       "      <td>0</td>\n",
       "      <td>0</td>\n",
       "      <td>...</td>\n",
       "      <td>1</td>\n",
       "      <td>0</td>\n",
       "      <td>-1</td>\n",
       "      <td>1</td>\n",
       "      <td>0</td>\n",
       "      <td>-1</td>\n",
       "      <td>0</td>\n",
       "      <td>1</td>\n",
       "      <td>0</td>\n",
       "      <td>0</td>\n",
       "    </tr>\n",
       "  </tbody>\n",
       "</table>\n",
       "<p>5 rows × 31 columns</p>\n",
       "</div>"
      ],
      "text/plain": [
       "   having_IP_Address  URL_Length  Shortining_Service  having_At_Symbol  \\\n",
       "0                  1           1                   0                 0   \n",
       "1                  0           1                   0                 0   \n",
       "2                  0           0                   0                 0   \n",
       "3                  0           0                   0                 0   \n",
       "4                  0           0                   1                 0   \n",
       "\n",
       "   double_slash_redirecting  Prefix_Suffix  having_Sub_Domain  SSLfinal_State  \\\n",
       "0                         1             -1                 -1              -1   \n",
       "1                         0             -1                  0               1   \n",
       "2                         0             -1                 -1              -1   \n",
       "3                         0             -1                 -1              -1   \n",
       "4                         0             -1                  1               1   \n",
       "\n",
       "   Domain_registeration_length  Favicon   ...    popUpWidnow  Iframe  \\\n",
       "0                            0        0   ...              0       0   \n",
       "1                            0        0   ...              0       0   \n",
       "2                            0        0   ...              0       0   \n",
       "3                            1        0   ...              0       0   \n",
       "4                            0        0   ...              1       0   \n",
       "\n",
       "   age_of_domain  DNSRecord  web_traffic  Page_Rank  Google_Index  \\\n",
       "0             -1          1           -1         -1             0   \n",
       "1             -1          1            0         -1             0   \n",
       "2              0          1            1         -1             0   \n",
       "3             -1          1            1         -1             0   \n",
       "4             -1          1            0         -1             0   \n",
       "\n",
       "   Links_pointing_to_page  Statistical_report  Result  \n",
       "0                       1                   1       1  \n",
       "1                       1                   0       1  \n",
       "2                       0                   1       1  \n",
       "3                      -1                   0       1  \n",
       "4                       1                   0       0  \n",
       "\n",
       "[5 rows x 31 columns]"
      ]
     },
     "execution_count": 3,
     "metadata": {},
     "output_type": "execute_result"
    }
   ],
   "source": [
    "df.head()"
   ]
  },
  {
   "cell_type": "code",
   "execution_count": 4,
   "metadata": {},
   "outputs": [
    {
     "data": {
      "text/plain": [
       "(2456, 31)"
      ]
     },
     "execution_count": 4,
     "metadata": {},
     "output_type": "execute_result"
    }
   ],
   "source": [
    "df.shape"
   ]
  },
  {
   "cell_type": "code",
   "execution_count": 5,
   "metadata": {},
   "outputs": [
    {
     "data": {
      "text/plain": [
       "0    1362\n",
       "1    1094\n",
       "Name: Result, dtype: int64"
      ]
     },
     "execution_count": 5,
     "metadata": {},
     "output_type": "execute_result"
    }
   ],
   "source": [
    "df.Result.value_counts()"
   ]
  },
  {
   "cell_type": "markdown",
   "metadata": {},
   "source": [
    "The data is balanced as there is not much difference."
   ]
  },
  {
   "cell_type": "code",
   "execution_count": 6,
   "metadata": {},
   "outputs": [],
   "source": [
    "#getting all values in column Result\n",
    "result=df.Result"
   ]
  },
  {
   "cell_type": "code",
   "execution_count": 7,
   "metadata": {},
   "outputs": [
    {
     "data": {
      "text/plain": [
       "(2456,)"
      ]
     },
     "execution_count": 7,
     "metadata": {},
     "output_type": "execute_result"
    }
   ],
   "source": [
    "result.shape"
   ]
  },
  {
   "cell_type": "code",
   "execution_count": 8,
   "metadata": {},
   "outputs": [
    {
     "data": {
      "text/plain": [
       "(2456, 30)"
      ]
     },
     "execution_count": 8,
     "metadata": {},
     "output_type": "execute_result"
    }
   ],
   "source": [
    "#dropping the column Result\n",
    "df=df.drop(['Result'],axis=1)\n",
    "df.shape"
   ]
  },
  {
   "cell_type": "code",
   "execution_count": 9,
   "metadata": {},
   "outputs": [
    {
     "data": {
      "text/html": [
       "<div>\n",
       "<style scoped>\n",
       "    .dataframe tbody tr th:only-of-type {\n",
       "        vertical-align: middle;\n",
       "    }\n",
       "\n",
       "    .dataframe tbody tr th {\n",
       "        vertical-align: top;\n",
       "    }\n",
       "\n",
       "    .dataframe thead th {\n",
       "        text-align: right;\n",
       "    }\n",
       "</style>\n",
       "<table border=\"1\" class=\"dataframe\">\n",
       "  <thead>\n",
       "    <tr style=\"text-align: right;\">\n",
       "      <th></th>\n",
       "      <th>having_IP_Address</th>\n",
       "      <th>URL_Length</th>\n",
       "      <th>Shortining_Service</th>\n",
       "      <th>having_At_Symbol</th>\n",
       "      <th>double_slash_redirecting</th>\n",
       "      <th>Prefix_Suffix</th>\n",
       "      <th>having_Sub_Domain</th>\n",
       "      <th>SSLfinal_State</th>\n",
       "      <th>Domain_registeration_length</th>\n",
       "      <th>Favicon</th>\n",
       "      <th>...</th>\n",
       "      <th>RightClick</th>\n",
       "      <th>popUpWidnow</th>\n",
       "      <th>Iframe</th>\n",
       "      <th>age_of_domain</th>\n",
       "      <th>DNSRecord</th>\n",
       "      <th>web_traffic</th>\n",
       "      <th>Page_Rank</th>\n",
       "      <th>Google_Index</th>\n",
       "      <th>Links_pointing_to_page</th>\n",
       "      <th>Statistical_report</th>\n",
       "    </tr>\n",
       "  </thead>\n",
       "  <tbody>\n",
       "    <tr>\n",
       "      <th>0</th>\n",
       "      <td>1</td>\n",
       "      <td>1</td>\n",
       "      <td>0</td>\n",
       "      <td>0</td>\n",
       "      <td>1</td>\n",
       "      <td>-1</td>\n",
       "      <td>-1</td>\n",
       "      <td>-1</td>\n",
       "      <td>0</td>\n",
       "      <td>0</td>\n",
       "      <td>...</td>\n",
       "      <td>0</td>\n",
       "      <td>0</td>\n",
       "      <td>0</td>\n",
       "      <td>-1</td>\n",
       "      <td>1</td>\n",
       "      <td>-1</td>\n",
       "      <td>-1</td>\n",
       "      <td>0</td>\n",
       "      <td>1</td>\n",
       "      <td>1</td>\n",
       "    </tr>\n",
       "    <tr>\n",
       "      <th>1</th>\n",
       "      <td>0</td>\n",
       "      <td>1</td>\n",
       "      <td>0</td>\n",
       "      <td>0</td>\n",
       "      <td>0</td>\n",
       "      <td>-1</td>\n",
       "      <td>0</td>\n",
       "      <td>1</td>\n",
       "      <td>0</td>\n",
       "      <td>0</td>\n",
       "      <td>...</td>\n",
       "      <td>0</td>\n",
       "      <td>0</td>\n",
       "      <td>0</td>\n",
       "      <td>-1</td>\n",
       "      <td>1</td>\n",
       "      <td>0</td>\n",
       "      <td>-1</td>\n",
       "      <td>0</td>\n",
       "      <td>1</td>\n",
       "      <td>0</td>\n",
       "    </tr>\n",
       "    <tr>\n",
       "      <th>2</th>\n",
       "      <td>0</td>\n",
       "      <td>0</td>\n",
       "      <td>0</td>\n",
       "      <td>0</td>\n",
       "      <td>0</td>\n",
       "      <td>-1</td>\n",
       "      <td>-1</td>\n",
       "      <td>-1</td>\n",
       "      <td>0</td>\n",
       "      <td>0</td>\n",
       "      <td>...</td>\n",
       "      <td>0</td>\n",
       "      <td>0</td>\n",
       "      <td>0</td>\n",
       "      <td>0</td>\n",
       "      <td>1</td>\n",
       "      <td>1</td>\n",
       "      <td>-1</td>\n",
       "      <td>0</td>\n",
       "      <td>0</td>\n",
       "      <td>1</td>\n",
       "    </tr>\n",
       "    <tr>\n",
       "      <th>3</th>\n",
       "      <td>0</td>\n",
       "      <td>0</td>\n",
       "      <td>0</td>\n",
       "      <td>0</td>\n",
       "      <td>0</td>\n",
       "      <td>-1</td>\n",
       "      <td>-1</td>\n",
       "      <td>-1</td>\n",
       "      <td>1</td>\n",
       "      <td>0</td>\n",
       "      <td>...</td>\n",
       "      <td>0</td>\n",
       "      <td>0</td>\n",
       "      <td>0</td>\n",
       "      <td>-1</td>\n",
       "      <td>1</td>\n",
       "      <td>1</td>\n",
       "      <td>-1</td>\n",
       "      <td>0</td>\n",
       "      <td>-1</td>\n",
       "      <td>0</td>\n",
       "    </tr>\n",
       "    <tr>\n",
       "      <th>4</th>\n",
       "      <td>0</td>\n",
       "      <td>0</td>\n",
       "      <td>1</td>\n",
       "      <td>0</td>\n",
       "      <td>0</td>\n",
       "      <td>-1</td>\n",
       "      <td>1</td>\n",
       "      <td>1</td>\n",
       "      <td>0</td>\n",
       "      <td>0</td>\n",
       "      <td>...</td>\n",
       "      <td>0</td>\n",
       "      <td>1</td>\n",
       "      <td>0</td>\n",
       "      <td>-1</td>\n",
       "      <td>1</td>\n",
       "      <td>0</td>\n",
       "      <td>-1</td>\n",
       "      <td>0</td>\n",
       "      <td>1</td>\n",
       "      <td>0</td>\n",
       "    </tr>\n",
       "  </tbody>\n",
       "</table>\n",
       "<p>5 rows × 30 columns</p>\n",
       "</div>"
      ],
      "text/plain": [
       "   having_IP_Address  URL_Length  Shortining_Service  having_At_Symbol  \\\n",
       "0                  1           1                   0                 0   \n",
       "1                  0           1                   0                 0   \n",
       "2                  0           0                   0                 0   \n",
       "3                  0           0                   0                 0   \n",
       "4                  0           0                   1                 0   \n",
       "\n",
       "   double_slash_redirecting  Prefix_Suffix  having_Sub_Domain  SSLfinal_State  \\\n",
       "0                         1             -1                 -1              -1   \n",
       "1                         0             -1                  0               1   \n",
       "2                         0             -1                 -1              -1   \n",
       "3                         0             -1                 -1              -1   \n",
       "4                         0             -1                  1               1   \n",
       "\n",
       "   Domain_registeration_length  Favicon         ...          RightClick  \\\n",
       "0                            0        0         ...                   0   \n",
       "1                            0        0         ...                   0   \n",
       "2                            0        0         ...                   0   \n",
       "3                            1        0         ...                   0   \n",
       "4                            0        0         ...                   0   \n",
       "\n",
       "   popUpWidnow  Iframe  age_of_domain  DNSRecord  web_traffic  Page_Rank  \\\n",
       "0            0       0             -1          1           -1         -1   \n",
       "1            0       0             -1          1            0         -1   \n",
       "2            0       0              0          1            1         -1   \n",
       "3            0       0             -1          1            1         -1   \n",
       "4            1       0             -1          1            0         -1   \n",
       "\n",
       "   Google_Index  Links_pointing_to_page  Statistical_report  \n",
       "0             0                       1                   1  \n",
       "1             0                       1                   0  \n",
       "2             0                       0                   1  \n",
       "3             0                      -1                   0  \n",
       "4             0                       1                   0  \n",
       "\n",
       "[5 rows x 30 columns]"
      ]
     },
     "execution_count": 9,
     "metadata": {},
     "output_type": "execute_result"
    }
   ],
   "source": [
    "df.head()"
   ]
  },
  {
   "cell_type": "code",
   "execution_count": 10,
   "metadata": {},
   "outputs": [],
   "source": [
    "#splitting the data train(70%) and test(30%)\n",
    "x_1, x_test, y_1, y_test = train_test_split(df, result, test_size=0.3, random_state=0,shuffle=False)"
   ]
  },
  {
   "cell_type": "markdown",
   "metadata": {},
   "source": [
    "# KNN"
   ]
  },
  {
   "cell_type": "code",
   "execution_count": 27,
   "metadata": {},
   "outputs": [
    {
     "name": "stdout",
     "output_type": "stream",
     "text": [
      "Best HyperParameter:  {'n_neighbors': 1}\n",
      "Best Accuracy: 96.10%\n",
      "best estimator:  KNeighborsClassifier(algorithm='kd_tree', leaf_size=30, metric='minkowski',\n",
      "           metric_params=None, n_jobs=1, n_neighbors=5, p=2,\n",
      "           weights='uniform')\n"
     ]
    }
   ],
   "source": [
    "#getting the optimal hyperparameter doing 5 fold cross validation\n",
    "knn = KNeighborsClassifier(algorithm='kd_tree')\n",
    "param_grid = {'n_neighbors':np.arange(1,40,2)} \n",
    "gsv = GridSearchCV(knn,param_grid,cv=5)\n",
    "gsv.fit(x_1,y_1)\n",
    "print(\"Best HyperParameter: \",gsv.best_params_)\n",
    "print(\"Best Accuracy: %.2f%%\"%(gsv.best_score_*100))\n",
    "print(\"best estimator: \",gsv.estimator)"
   ]
  },
  {
   "cell_type": "code",
   "execution_count": 28,
   "metadata": {},
   "outputs": [
    {
     "data": {
      "image/png": "[encoded data removed]",
      "text/plain": [
       "<Figure size 576x360 with 1 Axes>"
      ]
     },
     "metadata": {},
     "output_type": "display_data"
    }
   ],
   "source": [
    "#plotting of hyperparameter and training error\n",
    "plt.figure(figsize=(8,5))\n",
    "plt.plot(np.arange(1,40,2),1-gsv.cv_results_['mean_train_score'],\"b\",label=\"train error\")\n",
    "plt.plot(np.arange(1,40,2),1-gsv.cv_results_['mean_test_score'],\"g\",label=\"cross validation error\")\n",
    "plt.legend()\n",
    "plt.xlabel(\"number of neighbor\")\n",
    "plt.ylabel(\"error\")\n",
    "plt.title(\"training error\")\n",
    "plt.show()"
   ]
  },
  {
   "cell_type": "code",
   "execution_count": 29,
   "metadata": {},
   "outputs": [
    {
     "name": "stdout",
     "output_type": "stream",
     "text": [
      "the accuracy is 93.08%\n",
      "the precision is 92.33%\n",
      "the recall is 92.60%\n",
      "the f1 is 92.47%\n"
     ]
    },
    {
     "data": {
      "text/plain": [
       "<matplotlib.axes._subplots.AxesSubplot at 0x187ba2fc2b0>"
      ]
     },
     "execution_count": 29,
     "metadata": {},
     "output_type": "execute_result"
    },
    {
     "data": {
      "image/png": "[encoded data removed]",
      "text/plain": [
       "<Figure size 432x288 with 2 Axes>"
      ]
     },
     "metadata": {},
     "output_type": "display_data"
    }
   ],
   "source": [
    "#applying the model with best hyperparameter\n",
    "gsv.estimator.fit(x_1,y_1)\n",
    "pred=gsv.estimator.predict(x_test)\n",
    "#accuracy\n",
    "acc=accuracy_score(y_test,pred)*100\n",
    "print(\"the accuracy is %.2f%%\"%acc)\n",
    "#precision\n",
    "pre=precision_score(y_test,pred)*100\n",
    "print(\"the precision is %.2f%%\"%pre)\n",
    "#recall\n",
    "rec=recall_score(y_test,pred)*100\n",
    "print(\"the recall is %.2f%%\"%rec)\n",
    "#f1\n",
    "f=f1_score(y_test,pred)*100\n",
    "print(\"the f1 is %.2f%%\"%f)\n",
    "#confusion matrix\n",
    "df_cm=pd.DataFrame(confusion_matrix(y_test,pred))\n",
    "sns.set(font_scale=1.4)\n",
    "sns.heatmap(df_cm,annot=True,fmt=\"d\")"
   ]
  },
  {
   "cell_type": "markdown",
   "metadata": {},
   "source": [
    "# Logistic Regression"
   ]
  },
  {
   "cell_type": "code",
   "execution_count": 32,
   "metadata": {},
   "outputs": [
    {
     "name": "stdout",
     "output_type": "stream",
     "text": [
      "Fitting 5 folds for each of 14 candidates, totalling 70 fits\n"
     ]
    },
    {
     "name": "stderr",
     "output_type": "stream",
     "text": [
      "[Parallel(n_jobs=-1)]: Done  34 tasks      | elapsed:    4.8s\n",
      "[Parallel(n_jobs=-1)]: Done  55 out of  70 | elapsed:    4.9s remaining:    1.3s\n",
      "[Parallel(n_jobs=-1)]: Done  70 out of  70 | elapsed:    5.0s finished\n"
     ]
    },
    {
     "name": "stdout",
     "output_type": "stream",
     "text": [
      "Best HyperParameter:  {'C': 1, 'penalty': 'l1'}\n",
      "best estimator:  LogisticRegression(C=1.0, class_weight=None, dual=False, fit_intercept=True,\n",
      "          intercept_scaling=1, max_iter=100, multi_class='ovr', n_jobs=1,\n",
      "          penalty='l2', random_state=None, solver='liblinear', tol=0.0001,\n",
      "          verbose=0, warm_start=False)\n"
     ]
    }
   ],
   "source": [
    "#5 fold cross validation to get best hyperparameter\n",
    "lr = LogisticRegression()\n",
    "param_grid = {'C':[0.0001,0.001,0.01,0.1,1,10,100],\"penalty\":[\"l1\",\"l2\"]}     \n",
    "gsv = GridSearchCV(lr,param_grid,cv=5,n_jobs=-1,verbose=1,scoring=\"f1\")\n",
    "gsv.fit(x_1,y_1)\n",
    "print(\"Best HyperParameter: \",gsv.best_params_)\n",
    "#assinging best alpha to optimal print(\"Best Accuracy: %.2f%%\"%(gsv.best_score_*100))\n",
    "print(\"best estimator: \",gsv.estimator)"
   ]
  },
  {
   "cell_type": "code",
   "execution_count": 33,
   "metadata": {},
   "outputs": [
    {
     "name": "stdout",
     "output_type": "stream",
     "text": [
      "[1.0, 1.0, 0.11119030221850734, 0.07033408870347668, 0.06919650521742327, 0.07039935090508365, 0.07091674479830257]\n",
      "\n",
      "\n",
      "\n",
      "[0.1004831337598765, 0.0927584755091273, 0.07571464969186903, 0.06953378015392886, 0.07298301459194334, 0.07172409070890706, 0.07091940378115735]\n"
     ]
    }
   ],
   "source": [
    "#separating the regularization values\n",
    "mean_test_score=gsv.cv_results_[\"mean_test_score\"]\n",
    "mean_test_score=1-mean_test_score\n",
    "y_l1=[]\n",
    "y_l2=[]\n",
    "for i in mean_test_score[0:14:2]:\n",
    "    y_l1.append(i)\n",
    "for i in mean_test_score[1:14:2]:\n",
    "    y_l2.append(i)\n",
    "print(y_l1)\n",
    "print(\"\\n\\n\")\n",
    "print(y_l2)"
   ]
  },
  {
   "cell_type": "code",
   "execution_count": 34,
   "metadata": {},
   "outputs": [
    {
     "data": {
      "image/png": "[encoded data removed]",
      "text/plain": [
       "<Figure size 432x288 with 1 Axes>"
      ]
     },
     "metadata": {},
     "output_type": "display_data"
    }
   ],
   "source": [
    "#plotting the error\n",
    "x=param_grid[\"C\"]\n",
    "plt.plot(x,y_l1,\"b\",label=\"L1\")\n",
    "plt.plot(x,y_l2,\"g\",label=\"L2\")\n",
    "plt.xlabel(\"C\")\n",
    "plt.ylabel(\"error\")\n",
    "plt.title(\"error plot\")\n",
    "plt.legend()\n",
    "plt.show()\n"
   ]
  },
  {
   "cell_type": "code",
   "execution_count": 35,
   "metadata": {},
   "outputs": [
    {
     "name": "stdout",
     "output_type": "stream",
     "text": [
      "\n",
      "the accuracy is 93.22%\n",
      "\n",
      "the recall is 91.12%\n",
      "the precision is 93.90%\n",
      "the f1 score is 92.49%\n"
     ]
    },
    {
     "data": {
      "text/plain": [
       "<matplotlib.axes._subplots.AxesSubplot at 0x187ba563a90>"
      ]
     },
     "execution_count": 35,
     "metadata": {},
     "output_type": "execute_result"
    },
    {
     "data": {
      "image/png": "[encoded data removed]",
      "text/plain": [
       "<Figure size 432x288 with 2 Axes>"
      ]
     },
     "metadata": {},
     "output_type": "display_data"
    }
   ],
   "source": [
    "#applying the model with best hyperparameter\n",
    "gsv.estimator.fit(x_1,y_1)\n",
    "pred=gsv.estimator.predict(x_test)\n",
    "#different metrics\n",
    "acc=accuracy_score(y_test,pred)*100\n",
    "print(\"\\nthe accuracy is %.2f%%\"%acc)\n",
    " #recall   \n",
    "re=recall_score(y_test,pred,) * 100\n",
    "print(\"\\nthe recall is %.2f%%\"%re)\n",
    "#precision\n",
    "pre=precision_score(y_test,pred) * 100\n",
    "print(\"the precision is %.2f%%\"%pre)\n",
    "#f1\n",
    "f1=f1_score(y_test,pred) * 100\n",
    "print(\"the f1 score is %.2f%%\"%f1)\n",
    "#confusion matrix\n",
    "df_cm=pd.DataFrame(confusion_matrix(y_test,pred))\n",
    "#sns.set(font_scale=1.4)\n",
    "sns.heatmap(df_cm,annot=True,fmt=\"d\")"
   ]
  },
  {
   "cell_type": "markdown",
   "metadata": {},
   "source": [
    "# SVM"
   ]
  },
  {
   "cell_type": "code",
   "execution_count": 30,
   "metadata": {},
   "outputs": [
    {
     "name": "stdout",
     "output_type": "stream",
     "text": [
      "Fitting 5 folds for each of 8 candidates, totalling 40 fits\n",
      "Best HyperParameter:  {'alpha': 0.01}\n",
      "best estimator:  SGDClassifier(alpha=0.0001, average=False, class_weight=None, epsilon=0.1,\n",
      "       eta0=0.0, fit_intercept=True, l1_ratio=0.15,\n",
      "       learning_rate='optimal', loss='hinge', max_iter=None, n_iter=None,\n",
      "       n_jobs=1, penalty='l2', power_t=0.5, random_state=None,\n",
      "       shuffle=True, tol=None, verbose=0, warm_start=False)\n"
     ]
    },
    {
     "name": "stderr",
     "output_type": "stream",
     "text": [
      "[Parallel(n_jobs=-1)]: Done  40 out of  40 | elapsed:    5.1s finished\n"
     ]
    },
    {
     "data": {
      "image/png": "[encoded data removed]",
      "text/plain": [
       "<Figure size 432x288 with 1 Axes>"
      ]
     },
     "metadata": {},
     "output_type": "display_data"
    }
   ],
   "source": [
    "#5 fold cross validation to get best hyperparameter\n",
    "sgd = SGDClassifier(loss=\"hinge\",learning_rate='optimal')\n",
    "param_grid = {'alpha':[0.0001,0.001,0.01,0.1,1,10,100,1000]} \n",
    "\n",
    "gsv = GridSearchCV(sgd,param_grid,cv=5,n_jobs=-1,verbose=1,scoring=\"roc_auc\")\n",
    "gsv.fit(x_1,y_1)\n",
    "print(\"Best HyperParameter: \",gsv.best_params_)\n",
    "#assinging best alpha to optimal print(\"Best Accuracy: %.2f%%\"%(gsv.best_score_*100))\n",
    "print(\"best estimator: \",gsv.estimator)\n",
    "#print(\"cv results :\",gsv.cv_results_)\n",
    "\n",
    "#plotting the error\n",
    "yy1=list(gsv.cv_results_['mean_test_score'])\n",
    "yy2=list(gsv.cv_results_['mean_train_score'])\n",
    "xx=[0.0001,0.001,0.01,0.1,1,10,100,1000]\n",
    "plt.plot(xx,yy1,label='cross validation')\n",
    "plt.plot(xx,yy2,label='train')\n",
    "plt.xlabel(\"alpha\")\n",
    "plt.ylabel(\"error\")\n",
    "plt.legend()\n",
    "plt.show()"
   ]
  },
  {
   "cell_type": "code",
   "execution_count": 31,
   "metadata": {},
   "outputs": [
    {
     "name": "stdout",
     "output_type": "stream",
     "text": [
      "\n",
      "the accuracy is 93.62%\n",
      "\n",
      "the recall is 90.53%\n",
      "the precision is 95.33%\n",
      "the f1 score is 92.87%\n"
     ]
    },
    {
     "data": {
      "text/plain": [
       "<matplotlib.axes._subplots.AxesSubplot at 0x187ba35af28>"
      ]
     },
     "execution_count": 31,
     "metadata": {},
     "output_type": "execute_result"
    },
    {
     "data": {
      "image/png": "[encoded data removed]",
      "text/plain": [
       "<Figure size 432x288 with 2 Axes>"
      ]
     },
     "metadata": {},
     "output_type": "display_data"
    }
   ],
   "source": [
    "#applying the model using best hyperparameter\n",
    "oo=gsv.best_params_['alpha']\n",
    "    \n",
    "sgd=SGDClassifier(alpha=oo)\n",
    "sgd.fit(x_1,y_1)\n",
    "pred=sgd.predict(x_test)\n",
    "#different metrics\n",
    "acc=accuracy_score(y_test,pred)*100\n",
    "print(\"\\nthe accuracy is %.2f%%\"%acc)\n",
    "#recall\n",
    "re=recall_score(y_test,pred,) * 100\n",
    "print(\"\\nthe recall is %.2f%%\"%re)\n",
    "#precision\n",
    "pre=precision_score(y_test,pred) * 100\n",
    "print(\"the precision is %.2f%%\"%pre)\n",
    "#f1\n",
    "f1=f1_score(y_test,pred) * 100\n",
    "print(\"the f1 score is %.2f%%\"%f1)\n",
    "#confusion matrix\n",
    "df_cm=pd.DataFrame(confusion_matrix(y_test,pred))\n",
    "#sns.set(font_scale=1.4)\n",
    "sns.heatmap(df_cm,annot=True,fmt=\"d\")"
   ]
  },
  {
   "cell_type": "markdown",
   "metadata": {},
   "source": [
    "# Random forest"
   ]
  },
  {
   "cell_type": "code",
   "execution_count": 36,
   "metadata": {},
   "outputs": [
    {
     "name": "stdout",
     "output_type": "stream",
     "text": [
      "Fitting 5 folds for each of 49 candidates, totalling 245 fits\n"
     ]
    },
    {
     "name": "stderr",
     "output_type": "stream",
     "text": [
      "[Parallel(n_jobs=-1)]: Done  34 tasks      | elapsed:    5.5s\n",
      "[Parallel(n_jobs=-1)]: Done 184 tasks      | elapsed:   15.9s\n",
      "[Parallel(n_jobs=-1)]: Done 245 out of 245 | elapsed:   19.4s finished\n"
     ]
    },
    {
     "name": "stdout",
     "output_type": "stream",
     "text": [
      "Best HyperParameter:  {'max_depth': 15, 'n_estimators': 125}\n",
      "best estimator:  RandomForestClassifier(bootstrap=True, class_weight=None, criterion='gini',\n",
      "            max_depth=None, max_features='auto', max_leaf_nodes=None,\n",
      "            min_impurity_decrease=0.0, min_impurity_split=None,\n",
      "            min_samples_leaf=1, min_samples_split=2,\n",
      "            min_weight_fraction_leaf=0.0, n_estimators=10, n_jobs=1,\n",
      "            oob_score=False, random_state=None, verbose=0,\n",
      "            warm_start=False)\n"
     ]
    }
   ],
   "source": [
    "#cross validation to get best hyperparameter\n",
    "rf = RandomForestClassifier()\n",
    "n_estimators=[10,50,60,80,100,125,150]\n",
    "max_depth=[5,7,9,11,13,15,17]\n",
    "param_grid = {'n_estimators':n_estimators,'max_depth':max_depth} \n",
    "gsv = GridSearchCV(rf,param_grid,cv=5,n_jobs=-1,verbose=1,scoring=\"roc_auc\")\n",
    "gsv.fit(x_1,y_1)\n",
    "print(\"Best HyperParameter: \",gsv.best_params_)\n",
    "#assinging best alpha to optimal print(\"Best Accuracy: %.2f%%\"%(gsv.best_score_*100))\n",
    "print(\"best estimator: \",gsv.estimator)"
   ]
  },
  {
   "cell_type": "code",
   "execution_count": 37,
   "metadata": {},
   "outputs": [
    {
     "data": {
      "image/png": "[encoded data removed]",
      "text/plain": [
       "<Figure size 576x432 with 2 Axes>"
      ]
     },
     "metadata": {},
     "output_type": "display_data"
    }
   ],
   "source": [
    "plt.figure(figsize=(8, 6))\n",
    "scores = gsv.cv_results_['mean_test_score'].reshape(len(n_estimators),len(max_depth))\n",
    "testing = sns.heatmap(scores, annot=True)\n",
    "\n",
    "plt.xlabel('n_estimators')\n",
    "plt.ylabel('max_depth')\n",
    "\n",
    "plt.xticks(np.arange(len(n_estimators)), n_estimators, rotation=45)\n",
    "plt.yticks(np.arange(len(max_depth)), max_depth)\n",
    "plt.title('Cross Validation accuracy')\n",
    "plt.show()"
   ]
  },
  {
   "cell_type": "code",
   "execution_count": 39,
   "metadata": {},
   "outputs": [
    {
     "name": "stdout",
     "output_type": "stream",
     "text": [
      "\n",
      "the accuracy is 96.47%\n",
      "\n",
      "the recall is 95.27%\n",
      "the precision is 96.99%\n",
      "the f1 score is 96.12%\n"
     ]
    },
    {
     "data": {
      "text/plain": [
       "<matplotlib.axes._subplots.AxesSubplot at 0x187bb648240>"
      ]
     },
     "execution_count": 39,
     "metadata": {},
     "output_type": "execute_result"
    },
    {
     "data": {
      "image/png": "[encoded data removed]",
      "text/plain": [
       "<Figure size 432x288 with 2 Axes>"
      ]
     },
     "metadata": {},
     "output_type": "display_data"
    }
   ],
   "source": [
    "#applying model using best hyperparameter\n",
    "es=gsv.best_params_['n_estimators']\n",
    "md=gsv.best_params_['max_depth']\n",
    "    \n",
    "rf=RandomForestClassifier(n_estimators=es,max_depth=md)\n",
    "rf.fit(x_1,y_1)\n",
    "pred=rf.predict(x_test)\n",
    "#different metrics\n",
    "acc=accuracy_score(y_test,pred)*100\n",
    "print(\"\\nthe accuracy is %.2f%%\"%acc)\n",
    "\n",
    "re=recall_score(y_test,pred,) * 100\n",
    "print(\"\\nthe recall is %.2f%%\"%re)\n",
    "\n",
    "pre=precision_score(y_test,pred) * 100\n",
    "print(\"the precision is %.2f%%\"%pre)\n",
    "\n",
    "f1=f1_score(y_test,pred) * 100\n",
    "print(\"the f1 score is %.2f%%\"%f1)\n",
    "\n",
    "df_cm=pd.DataFrame(confusion_matrix(y_test,pred))\n",
    "#sns.set(font_scale=1.4)\n",
    "sns.heatmap(df_cm,annot=True,fmt=\"d\")"
   ]
  },
  {
   "cell_type": "markdown",
   "metadata": {},
   "source": [
    "# Conclusion"
   ]
  },
  {
   "cell_type": "code",
   "execution_count": 40,
   "metadata": {},
   "outputs": [],
   "source": [
    "from prettytable import PrettyTable"
   ]
  },
  {
   "cell_type": "code",
   "execution_count": 41,
   "metadata": {},
   "outputs": [],
   "source": [
    "con=PrettyTable()\n",
    "con.field_names=['model','accuracy','precision','recall','f1']\n",
    "con.add_row(['KNN','93.08 %','92.33 %','92.60 %','92.47 %'])\n",
    "con.add_row(['Logistic regression','93.22 %','91.12 %','93.90 %','92.49 %'])\n",
    "con.add_row(['SVM','93.62 %','90.53 %','95.33 %','92.87%'])\n",
    "con.add_row(['Random forest','96.47 %','95.27 %','96.99 %','96.12 %'])"
   ]
  },
  {
   "cell_type": "code",
   "execution_count": 42,
   "metadata": {},
   "outputs": [
    {
     "name": "stdout",
     "output_type": "stream",
     "text": [
      "+---------------------+----------+-----------+---------+---------+\n",
      "|        model        | accuracy | precision |  recall |    f1   |\n",
      "+---------------------+----------+-----------+---------+---------+\n",
      "|         KNN         | 93.08 %  |  92.33 %  | 92.60 % | 92.47 % |\n",
      "| Logistic regression | 93.22 %  |  91.12 %  | 93.90 % | 92.49 % |\n",
      "|         SVM         | 93.62 %  |  90.53 %  | 95.33 % |  92.87% |\n",
      "|    Random forest    | 96.47 %  |  95.27 %  | 96.99 % | 96.12 % |\n",
      "+---------------------+----------+-----------+---------+---------+\n"
     ]
    }
   ],
   "source": [
    "print(con)"
   ]
  },
  {
   "cell_type": "markdown",
   "metadata": {},
   "source": [
    "Random forest classifies the website better than the other 3 models."
   ]
  }
 ],
 "metadata": {
  "kernelspec": {
   "display_name": "Python 3",
   "language": "python",
   "name": "python3"
  },
  "language_info": {
   "codemirror_mode": {
    "name": "ipython",
    "version": 3
   },
   "file_extension": ".py",
   "mimetype": "text/x-python",
   "name": "python",
   "nbconvert_exporter": "python",
   "pygments_lexer": "ipython3",
   "version": "3.6.5"
  }
 },
 "nbformat": 4,
 "nbformat_minor": 2
}
